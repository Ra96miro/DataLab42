{
 "cells": [
  {
   "cell_type": "code",
   "execution_count": 14,
   "metadata": {},
   "outputs": [
    {
     "data": {
      "text/plain": [
       "<AxesSubplot:ylabel='Frequency'>"
      ]
     },
     "execution_count": 14,
     "metadata": {},
     "output_type": "execute_result"
    },
    {
     "data": {
      "image/png": "[encoded data removed]",
      "text/plain": [
       "<Figure size 432x288 with 1 Axes>"
      ]
     },
     "metadata": {
      "needs_background": "light"
     },
     "output_type": "display_data"
    }
   ],
   "source": [
    "import pandas as pd\n",
    "import matplotlib as mtp\n",
    "import matplotlib.pyplot as plt\n",
    "\n",
    "dataset = pd.read_csv('datasets/titles.csv')\n",
    "# dataset.head()\n",
    "\n",
    "dataset['release_year'].plot(kind = 'hist', bins = 100)\n"
   ]
  },
  {
   "cell_type": "code",
   "execution_count": 16,
   "metadata": {},
   "outputs": [
    {
     "data": {
      "text/plain": [
       "(array([1.000e+00, 7.000e+00, 8.000e+00, 1.200e+01, 3.300e+01, 5.700e+01,\n",
       "        9.900e+01, 2.280e+02, 7.720e+02, 4.589e+03]),\n",
       " array([1945. , 1952.7, 1960.4, 1968.1, 1975.8, 1983.5, 1991.2, 1998.9,\n",
       "        2006.6, 2014.3, 2022. ]),\n",
       " <BarContainer object of 10 artists>)"
      ]
     },
     "execution_count": 16,
     "metadata": {},
     "output_type": "execute_result"
    },
    {
     "data": {
      "image/png": "[encoded data removed]",
      "text/plain": [
       "<Figure size 432x288 with 1 Axes>"
      ]
     },
     "metadata": {
      "needs_background": "light"
     },
     "output_type": "display_data"
    }
   ],
   "source": [
    "plt.hist(dataset['release_year'])"
   ]
  },
  {
   "cell_type": "code",
   "execution_count": 22,
   "metadata": {},
   "outputs": [
    {
     "ename": "KeyError",
     "evalue": "\"None of [Int64Index([3759, 2047], dtype='int64')] are in the [columns]\"",
     "output_type": "error",
     "traceback": [
      "\u001b[0;31m---------------------------------------------------------------------------\u001b[0m",
      "\u001b[0;31mKeyError\u001b[0m                                  Traceback (most recent call last)",
      "\u001b[1;32m/Users/gramiro-/Desktop/Week3/bonus.ipynb Cell 3'\u001b[0m in \u001b[0;36m<cell line: 7>\u001b[0;34m()\u001b[0m\n\u001b[1;32m      <a href='vscode-notebook-cell:/Users/gramiro-/Desktop/Week3/bonus.ipynb#ch0000002?line=4'>5</a>\u001b[0m show_or_movie \u001b[39m=\u001b[39m dataset[\u001b[39m\"\u001b[39m\u001b[39mtype\u001b[39m\u001b[39m\"\u001b[39m]\u001b[39m.\u001b[39mvalue_counts()\n\u001b[1;32m      <a href='vscode-notebook-cell:/Users/gramiro-/Desktop/Week3/bonus.ipynb#ch0000002?line=5'>6</a>\u001b[0m type_ \u001b[39m=\u001b[39m dataset[\u001b[39m\"\u001b[39m\u001b[39mtype\u001b[39m\u001b[39m\"\u001b[39m]\u001b[39m.\u001b[39munique()\n\u001b[0;32m----> <a href='vscode-notebook-cell:/Users/gramiro-/Desktop/Week3/bonus.ipynb#ch0000002?line=6'>7</a>\u001b[0m df\u001b[39m.\u001b[39;49mplot(x \u001b[39m=\u001b[39;49m show_or_movie, y \u001b[39m=\u001b[39;49m type_)\n\u001b[1;32m      <a href='vscode-notebook-cell:/Users/gramiro-/Desktop/Week3/bonus.ipynb#ch0000002?line=7'>8</a>\u001b[0m plt\u001b[39m.\u001b[39mshow()\n",
      "File \u001b[0;32m~/Library/Python/3.9/lib/python/site-packages/pandas/plotting/_core.py:937\u001b[0m, in \u001b[0;36mPlotAccessor.__call__\u001b[0;34m(self, *args, **kwargs)\u001b[0m\n\u001b[1;32m    <a href='file:///Users/gramiro-/Library/Python/3.9/lib/python/site-packages/pandas/plotting/_core.py?line=934'>935</a>\u001b[0m \u001b[39mif\u001b[39;00m is_integer(x) \u001b[39mand\u001b[39;00m \u001b[39mnot\u001b[39;00m data\u001b[39m.\u001b[39mcolumns\u001b[39m.\u001b[39mholds_integer():\n\u001b[1;32m    <a href='file:///Users/gramiro-/Library/Python/3.9/lib/python/site-packages/pandas/plotting/_core.py?line=935'>936</a>\u001b[0m     x \u001b[39m=\u001b[39m data_cols[x]\n\u001b[0;32m--> <a href='file:///Users/gramiro-/Library/Python/3.9/lib/python/site-packages/pandas/plotting/_core.py?line=936'>937</a>\u001b[0m \u001b[39melif\u001b[39;00m \u001b[39mnot\u001b[39;00m \u001b[39misinstance\u001b[39m(data[x], ABCSeries):\n\u001b[1;32m    <a href='file:///Users/gramiro-/Library/Python/3.9/lib/python/site-packages/pandas/plotting/_core.py?line=937'>938</a>\u001b[0m     \u001b[39mraise\u001b[39;00m \u001b[39mValueError\u001b[39;00m(\u001b[39m\"\u001b[39m\u001b[39mx must be a label or position\u001b[39m\u001b[39m\"\u001b[39m)\n\u001b[1;32m    <a href='file:///Users/gramiro-/Library/Python/3.9/lib/python/site-packages/pandas/plotting/_core.py?line=938'>939</a>\u001b[0m data \u001b[39m=\u001b[39m data\u001b[39m.\u001b[39mset_index(x)\n",
      "File \u001b[0;32m~/Library/Python/3.9/lib/python/site-packages/pandas/core/frame.py:3511\u001b[0m, in \u001b[0;36mDataFrame.__getitem__\u001b[0;34m(self, key)\u001b[0m\n\u001b[1;32m   <a href='file:///Users/gramiro-/Library/Python/3.9/lib/python/site-packages/pandas/core/frame.py?line=3508'>3509</a>\u001b[0m     \u001b[39mif\u001b[39;00m is_iterator(key):\n\u001b[1;32m   <a href='file:///Users/gramiro-/Library/Python/3.9/lib/python/site-packages/pandas/core/frame.py?line=3509'>3510</a>\u001b[0m         key \u001b[39m=\u001b[39m \u001b[39mlist\u001b[39m(key)\n\u001b[0;32m-> <a href='file:///Users/gramiro-/Library/Python/3.9/lib/python/site-packages/pandas/core/frame.py?line=3510'>3511</a>\u001b[0m     indexer \u001b[39m=\u001b[39m \u001b[39mself\u001b[39;49m\u001b[39m.\u001b[39;49mcolumns\u001b[39m.\u001b[39;49m_get_indexer_strict(key, \u001b[39m\"\u001b[39;49m\u001b[39mcolumns\u001b[39;49m\u001b[39m\"\u001b[39;49m)[\u001b[39m1\u001b[39m]\n\u001b[1;32m   <a href='file:///Users/gramiro-/Library/Python/3.9/lib/python/site-packages/pandas/core/frame.py?line=3512'>3513</a>\u001b[0m \u001b[39m# take() does not accept boolean indexers\u001b[39;00m\n\u001b[1;32m   <a href='file:///Users/gramiro-/Library/Python/3.9/lib/python/site-packages/pandas/core/frame.py?line=3513'>3514</a>\u001b[0m \u001b[39mif\u001b[39;00m \u001b[39mgetattr\u001b[39m(indexer, \u001b[39m\"\u001b[39m\u001b[39mdtype\u001b[39m\u001b[39m\"\u001b[39m, \u001b[39mNone\u001b[39;00m) \u001b[39m==\u001b[39m \u001b[39mbool\u001b[39m:\n",
      "File \u001b[0;32m~/Library/Python/3.9/lib/python/site-packages/pandas/core/indexes/base.py:5782\u001b[0m, in \u001b[0;36mIndex._get_indexer_strict\u001b[0;34m(self, key, axis_name)\u001b[0m\n\u001b[1;32m   <a href='file:///Users/gramiro-/Library/Python/3.9/lib/python/site-packages/pandas/core/indexes/base.py?line=5778'>5779</a>\u001b[0m \u001b[39melse\u001b[39;00m:\n\u001b[1;32m   <a href='file:///Users/gramiro-/Library/Python/3.9/lib/python/site-packages/pandas/core/indexes/base.py?line=5779'>5780</a>\u001b[0m     keyarr, indexer, new_indexer \u001b[39m=\u001b[39m \u001b[39mself\u001b[39m\u001b[39m.\u001b[39m_reindex_non_unique(keyarr)\n\u001b[0;32m-> <a href='file:///Users/gramiro-/Library/Python/3.9/lib/python/site-packages/pandas/core/indexes/base.py?line=5781'>5782</a>\u001b[0m \u001b[39mself\u001b[39;49m\u001b[39m.\u001b[39;49m_raise_if_missing(keyarr, indexer, axis_name)\n\u001b[1;32m   <a href='file:///Users/gramiro-/Library/Python/3.9/lib/python/site-packages/pandas/core/indexes/base.py?line=5783'>5784</a>\u001b[0m keyarr \u001b[39m=\u001b[39m \u001b[39mself\u001b[39m\u001b[39m.\u001b[39mtake(indexer)\n\u001b[1;32m   <a href='file:///Users/gramiro-/Library/Python/3.9/lib/python/site-packages/pandas/core/indexes/base.py?line=5784'>5785</a>\u001b[0m \u001b[39mif\u001b[39;00m \u001b[39misinstance\u001b[39m(key, Index):\n\u001b[1;32m   <a href='file:///Users/gramiro-/Library/Python/3.9/lib/python/site-packages/pandas/core/indexes/base.py?line=5785'>5786</a>\u001b[0m     \u001b[39m# GH 42790 - Preserve name from an Index\u001b[39;00m\n",
      "File \u001b[0;32m~/Library/Python/3.9/lib/python/site-packages/pandas/core/indexes/base.py:5842\u001b[0m, in \u001b[0;36mIndex._raise_if_missing\u001b[0;34m(self, key, indexer, axis_name)\u001b[0m\n\u001b[1;32m   <a href='file:///Users/gramiro-/Library/Python/3.9/lib/python/site-packages/pandas/core/indexes/base.py?line=5839'>5840</a>\u001b[0m     \u001b[39mif\u001b[39;00m use_interval_msg:\n\u001b[1;32m   <a href='file:///Users/gramiro-/Library/Python/3.9/lib/python/site-packages/pandas/core/indexes/base.py?line=5840'>5841</a>\u001b[0m         key \u001b[39m=\u001b[39m \u001b[39mlist\u001b[39m(key)\n\u001b[0;32m-> <a href='file:///Users/gramiro-/Library/Python/3.9/lib/python/site-packages/pandas/core/indexes/base.py?line=5841'>5842</a>\u001b[0m     \u001b[39mraise\u001b[39;00m \u001b[39mKeyError\u001b[39;00m(\u001b[39mf\u001b[39m\u001b[39m\"\u001b[39m\u001b[39mNone of [\u001b[39m\u001b[39m{\u001b[39;00mkey\u001b[39m}\u001b[39;00m\u001b[39m] are in the [\u001b[39m\u001b[39m{\u001b[39;00maxis_name\u001b[39m}\u001b[39;00m\u001b[39m]\u001b[39m\u001b[39m\"\u001b[39m)\n\u001b[1;32m   <a href='file:///Users/gramiro-/Library/Python/3.9/lib/python/site-packages/pandas/core/indexes/base.py?line=5843'>5844</a>\u001b[0m not_found \u001b[39m=\u001b[39m \u001b[39mlist\u001b[39m(ensure_index(key)[missing_mask\u001b[39m.\u001b[39mnonzero()[\u001b[39m0\u001b[39m]]\u001b[39m.\u001b[39munique())\n\u001b[1;32m   <a href='file:///Users/gramiro-/Library/Python/3.9/lib/python/site-packages/pandas/core/indexes/base.py?line=5844'>5845</a>\u001b[0m \u001b[39mraise\u001b[39;00m \u001b[39mKeyError\u001b[39;00m(\u001b[39mf\u001b[39m\u001b[39m\"\u001b[39m\u001b[39m{\u001b[39;00mnot_found\u001b[39m}\u001b[39;00m\u001b[39m not in index\u001b[39m\u001b[39m\"\u001b[39m)\n",
      "\u001b[0;31mKeyError\u001b[0m: \"None of [Int64Index([3759, 2047], dtype='int64')] are in the [columns]\""
     ]
    }
   ],
   "source": [
    "import matplotlib.pyplot as plt\n",
    "import pandas as pd\n",
    "\n",
    "df = pd.read_csv('datasets/titles.csv')\n",
    "show_or_movie = dataset[\"type\"].value_counts()\n",
    "type_ = dataset[\"type\"].unique()\n",
    "df.plot(x = show_or_movie, y = type_)\n",
    "plt.show()"
   ]
  }
 ],
 "metadata": {
  "interpreter": {
   "hash": "aee8b7b246df8f9039afb4144a1f6fd8d2ca17a180786b69acc140d282b71a49"
  },
  "kernelspec": {
   "display_name": "Python 3.9.1 64-bit",
   "language": "python",
   "name": "python3"
  },
  "language_info": {
   "codemirror_mode": {
    "name": "ipython",
    "version": 3
   },
   "file_extension": ".py",
   "mimetype": "text/x-python",
   "name": "python",
   "nbconvert_exporter": "python",
   "pygments_lexer": "ipython3",
   "version": "3.9.1"
  },
  "orig_nbformat": 4
 },
 "nbformat": 4,
 "nbformat_minor": 2
}
