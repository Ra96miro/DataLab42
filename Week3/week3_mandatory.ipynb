{
 "cells": [
  {
   "cell_type": "code",
   "execution_count": null,
   "metadata": {},
   "outputs": [],
   "source": [
    "import pandas as pd\n",
    "\n",
    "dataset = pd.read_csv('datasets/Salaries.csv')\n",
    "head = dataset.head(0)\n",
    "\n",
    "print (head)"
   ]
  },
  {
   "cell_type": "code",
   "execution_count": null,
   "metadata": {},
   "outputs": [],
   "source": [
    "info = dataset.info()\n",
    "\n",
    "print (info)"
   ]
  },
  {
   "cell_type": "code",
   "execution_count": null,
   "metadata": {},
   "outputs": [],
   "source": [
    "over_max = dataset['OvertimePay'].max()\n",
    "\n",
    "print(over_max)"
   ]
  },
  {
   "cell_type": "code",
   "execution_count": null,
   "metadata": {},
   "outputs": [],
   "source": [
    "job_title = dataset[dataset[\"EmployeeName\"] == \"JOSEPH DRISCOLL\"][\"JobTitle\"]\n",
    "\n",
    "print (job_title)"
   ]
  },
  {
   "cell_type": "code",
   "execution_count": null,
   "metadata": {},
   "outputs": [],
   "source": [
    "total_earn = dataset[dataset[\"EmployeeName\"] == \"JOSEPH DRISCOLL\"][\"TotalPayBenefits\"]\n",
    "\n",
    "print (total_earn)"
   ]
  },
  {
   "cell_type": "code",
   "execution_count": null,
   "metadata": {},
   "outputs": [],
   "source": [
    "richest = dataset[dataset['TotalPayBenefits'] == dataset['TotalPayBenefits'].max()]['EmployeeName']\n",
    "\n",
    "print(richest)"
   ]
  },
  {
   "cell_type": "code",
   "execution_count": null,
   "metadata": {},
   "outputs": [],
   "source": [
    "poorest = dataset[dataset['TotalPayBenefits'] == dataset['TotalPayBenefits'].min()]['EmployeeName']\n",
    "\n",
    "print(poorest)\n",
    "\n",
    "data = pd.read_csv(\"datasets/Salaries.csv\", index_col =\"EmployeeName\")\n",
    "  \n",
    "rows = data.loc[\"Joe Lopez\"]\n",
    "  \n",
    "print(rows)\n",
    "# he is in debt"
   ]
  },
  {
   "cell_type": "code",
   "execution_count": null,
   "metadata": {},
   "outputs": [],
   "source": [
    "avarage = dataset['BasePay'].mean()\n",
    "\n",
    "print(avarage)\n"
   ]
  },
  {
   "cell_type": "code",
   "execution_count": null,
   "metadata": {},
   "outputs": [],
   "source": [
    "unique = dataset[\"JobTitle\"].nunique()\n",
    "print(unique)\n"
   ]
  },
  {
   "cell_type": "code",
   "execution_count": null,
   "metadata": {},
   "outputs": [],
   "source": [
    "item_counts = dataset[\"JobTitle\"].value_counts().head(5)\n",
    "print(item_counts)"
   ]
  },
  {
   "cell_type": "code",
   "execution_count": null,
   "metadata": {},
   "outputs": [],
   "source": [
    "\n",
    "column = sum(dataset[dataset['Year'] == 2013]['JobTitle'].value_counts() == 1)\n",
    "\n",
    "print (column)\n"
   ]
  },
  {
   "cell_type": "code",
   "execution_count": null,
   "metadata": {},
   "outputs": [],
   "source": [
    "try_ = (dataset['JobTitle'].str.contains('Chief')==True).count()\n",
    "print (try_)"
   ]
  }
 ],
 "metadata": {
  "interpreter": {
   "hash": "31f2aee4e71d21fbe5cf8b01ff0e069b9275f58929596ceb00d14d90e3e16cd6"
  },
  "kernelspec": {
   "display_name": "Python 3.8.9 64-bit",
   "language": "python",
   "name": "python3"
  },
  "language_info": {
   "codemirror_mode": {
    "name": "ipython",
    "version": 3
   },
   "file_extension": ".py",
   "mimetype": "text/x-python",
   "name": "python",
   "nbconvert_exporter": "python",
   "pygments_lexer": "ipython3",
   "version": "3.9.1"
  },
  "orig_nbformat": 4
 },
 "nbformat": 4,
 "nbformat_minor": 2
}
